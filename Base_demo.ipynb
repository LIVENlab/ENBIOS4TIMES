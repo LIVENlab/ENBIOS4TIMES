{
 "cells": [
  {
   "cell_type": "code",
   "execution_count": 4,
   "id": "df035a1c-f6d1-4180-9fc2-0b40d592ab93",
   "metadata": {},
   "outputs": [
    {
     "name": "stderr",
     "output_type": "stream",
     "text": [
      "WARNING:root:Testing logging messages\n"
     ]
    },
    {
     "name": "stdout",
     "output_type": "stream",
     "text": [
      "Project and Database existing...\n",
      "Adapting input data...\n"
     ]
    },
    {
     "name": "stderr",
     "output_type": "stream",
     "text": [
      "C:\\Users\\1496051\\PycharmProjects\\Sparks_local\\Sparks\\util\\preprocess\\cleaner.py:122: Warning: \n",
      "The following technologies, are present in the energy data but not in the Basefile: \n",
      "            \n",
      "{'h2_import', 'gas_hob', 'electric_hob', 'heavy_transport_ev', 'hydrogen_to_liquids', 'light_transport_ev', 'light_transport_ice', 'hydrogen_storage', 'electric_heater', 'hydrogen_to_methane', 'dac', 'hp', 'heavy_transport_ice', 'hydrogen_to_methanol', 'biofuel_supply'}\n",
      "            \n",
      " Please,check the following items in order to avoid missing information\n",
      "  warnings.warn(message,Warning)\n",
      "C:\\Users\\1496051\\PycharmProjects\\Sparks_local\\Sparks\\generic\\generic_dataclass.py:48: Warning: \n",
      "ssss not found in the database. Please check your database / basefile.\n",
      "This activity won't be included.\n",
      "  warnings.warn(message, Warning)\n",
      "C:\\Users\\1496051\\PycharmProjects\\Sparks_local\\Sparks\\generic\\generic_dataclass.py:48: Warning: \n",
      "CHP_hydrogen_2050 not found in the database. Please check your database / basefile.\n",
      "This activity won't be included.\n",
      "  warnings.warn(message, Warning)\n",
      "C:\\Users\\1496051\\PycharmProjects\\Sparks_local\\Sparks\\generic\\generic_dataclass.py:48: Warning: \n",
      "CHP_hydrogen_2050_HEAT_1 not found in the database. Please check your database / basefile.\n",
      "This activity won't be included.\n",
      "  warnings.warn(message, Warning)\n",
      "C:\\Users\\1496051\\PycharmProjects\\Sparks_local\\Sparks\\generic\\generic_dataclass.py:48: Warning: \n",
      "market_hydrogen_2050 not found in the database. Please check your database / basefile.\n",
      "This activity won't be included.\n",
      "  warnings.warn(message, Warning)\n"
     ]
    },
    {
     "name": "stdout",
     "output_type": "stream",
     "text": [
      "function preprocess executed in 0.9958367347717285 seconds\n",
      "Input data for ENBIOS created\n"
     ]
    }
   ],
   "source": [
    "from Sparks.util.base import SoftLink\n",
    "\n",
    "\n",
    "\n",
    "\n",
    "enbios_mod = SoftLink(r'C:\\Users\\1496051\\PycharmProjects\\Sparks_local\\testing\\data_test\\flow_out_sum.csv',\n",
    "                      r'C:\\Users\\1496051\\PycharmProjects\\Sparks_local\\testing\\data_test\\basefile.xlsx',\n",
    "                       'github_3',\n",
    "                      'ecoinvent')\n",
    "\n",
    "\n",
    "\n",
    "enbios_mod.preprocess(subregions=False)\n",
    "enbios_mod.data_for_ENBIOS(smaller_vers=True,\n",
    "                           path_save=r'test.json')"
   ]
  },
  {
   "cell_type": "code",
   "execution_count": 7,
   "id": "d1e56919-2b5a-4326-9ec4-7f527bd2e6f5",
   "metadata": {},
   "outputs": [
    {
     "name": "stdout",
     "output_type": "stream",
     "text": [
      "Creating logging config file at: C:\\Users\\1496051\\PycharmProjects\\Sparks_local\\venv\\Lib\\site-packages\\enbios\\data\\logging.json\n"
     ]
    }
   ],
   "source": [
    "\n"
   ]
  },
  {
   "cell_type": "code",
   "execution_count": 11,
   "id": "0aa780dc-17b4-4a09-b690-dfc444b4a0ed",
   "metadata": {},
   "outputs": [
    {
     "ename": "FileNotFoundError",
     "evalue": "File C:\\Users\\Administrator\\PycharmProjects\\SEEDS\\runs\\run_density_water\\data\\data_260.json does not exist",
     "output_type": "error",
     "traceback": [
      "\u001b[1;31m---------------------------------------------------------------------------\u001b[0m",
      "\u001b[1;31mFileNotFoundError\u001b[0m                         Traceback (most recent call last)",
      "Cell \u001b[1;32mIn[11], line 6\u001b[0m\n\u001b[0;32m      2\u001b[0m \u001b[38;5;66;03m#from enbios2.base.experiment import Experiment\u001b[39;00m\n\u001b[0;32m      3\u001b[0m \u001b[38;5;28;01mimport\u001b[39;00m \u001b[38;5;21;01mjson\u001b[39;00m\n\u001b[1;32m----> 6\u001b[0m exp \u001b[38;5;241m=\u001b[39m \u001b[43menb\u001b[49m\u001b[38;5;241;43m.\u001b[39;49m\u001b[43mExperiment\u001b[49m\u001b[43m(\u001b[49m\u001b[38;5;124;43mr\u001b[39;49m\u001b[38;5;124;43m'\u001b[39;49m\u001b[38;5;124;43mC:\u001b[39;49m\u001b[38;5;124;43m\\\u001b[39;49m\u001b[38;5;124;43mUsers\u001b[39;49m\u001b[38;5;124;43m\\\u001b[39;49m\u001b[38;5;124;43mAdministrator\u001b[39;49m\u001b[38;5;124;43m\\\u001b[39;49m\u001b[38;5;124;43mPycharmProjects\u001b[39;49m\u001b[38;5;124;43m\\\u001b[39;49m\u001b[38;5;124;43mSEEDS\u001b[39;49m\u001b[38;5;124;43m\\\u001b[39;49m\u001b[38;5;124;43mruns\u001b[39;49m\u001b[38;5;124;43m\\\u001b[39;49m\u001b[38;5;124;43mrun_density_water\u001b[39;49m\u001b[38;5;124;43m\\\u001b[39;49m\u001b[38;5;124;43mdata\u001b[39;49m\u001b[38;5;124;43m\\\u001b[39;49m\u001b[38;5;124;43mdata_260.json\u001b[39;49m\u001b[38;5;124;43m'\u001b[39;49m\u001b[43m)\u001b[49m\n\u001b[0;32m      7\u001b[0m exp\u001b[38;5;241m.\u001b[39mrun()\n\u001b[0;32m     10\u001b[0m \u001b[38;5;28;01mwith\u001b[39;00m \u001b[38;5;28mopen\u001b[39m(\u001b[38;5;124mr\u001b[39m\u001b[38;5;124m'\u001b[39m\u001b[38;5;124mC:\u001b[39m\u001b[38;5;124m\\\u001b[39m\u001b[38;5;124mUsers\u001b[39m\u001b[38;5;124m\\\u001b[39m\u001b[38;5;124mAdministrator\u001b[39m\u001b[38;5;124m\\\u001b[39m\u001b[38;5;124mPycharmProjects\u001b[39m\u001b[38;5;124m\\\u001b[39m\u001b[38;5;124mSEEDS\u001b[39m\u001b[38;5;124m\\\u001b[39m\u001b[38;5;124mruns\u001b[39m\u001b[38;5;124m\\\u001b[39m\u001b[38;5;124mrun_density_water\u001b[39m\u001b[38;5;124m\\\u001b[39m\u001b[38;5;124mdata\u001b[39m\u001b[38;5;124m\\\u001b[39m\u001b[38;5;124mresults_260.json\u001b[39m\u001b[38;5;124m'\u001b[39m, \u001b[38;5;124m'\u001b[39m\u001b[38;5;124mw\u001b[39m\u001b[38;5;124m'\u001b[39m) \u001b[38;5;28;01mas\u001b[39;00m file:\n",
      "File \u001b[1;32m~\\PycharmProjects\\Sparks_local\\venv\\Lib\\site-packages\\enbios\\base\\experiment.py:66\u001b[0m, in \u001b[0;36mExperiment.__init__\u001b[1;34m(self, data_input)\u001b[0m\n\u001b[0;32m     61\u001b[0m         \u001b[38;5;28;01mraise\u001b[39;00m \u001b[38;5;167;01mValueError\u001b[39;00m(\n\u001b[0;32m     62\u001b[0m             \u001b[38;5;124m\"\u001b[39m\u001b[38;5;124mExperiment config-file-path must be specified as environment \u001b[39m\u001b[38;5;124m\"\u001b[39m\n\u001b[0;32m     63\u001b[0m             \u001b[38;5;124m\"\u001b[39m\u001b[38;5;124mvariable: \u001b[39m\u001b[38;5;124m'\u001b[39m\u001b[38;5;124mCONFIG_FILE\u001b[39m\u001b[38;5;124m'\u001b[39m\u001b[38;5;124m\"\u001b[39m\n\u001b[0;32m     64\u001b[0m         )\n\u001b[0;32m     65\u001b[0m \u001b[38;5;28;01mif\u001b[39;00m \u001b[38;5;28misinstance\u001b[39m(data_input, \u001b[38;5;28mstr\u001b[39m) \u001b[38;5;129;01mor\u001b[39;00m \u001b[38;5;28misinstance\u001b[39m(data_input, Path):\n\u001b[1;32m---> 66\u001b[0m     config_file_path \u001b[38;5;241m=\u001b[39m \u001b[43mReadPath\u001b[49m\u001b[43m(\u001b[49m\u001b[43mdata_input\u001b[49m\u001b[43m)\u001b[49m\n\u001b[0;32m     67\u001b[0m     raw_data \u001b[38;5;241m=\u001b[39m config_file_path\u001b[38;5;241m.\u001b[39mread_data()\n\u001b[0;32m     68\u001b[0m \u001b[38;5;28;01melse\u001b[39;00m:\n",
      "File \u001b[1;32m~\\PycharmProjects\\Sparks_local\\venv\\Lib\\site-packages\\enbios\\generic\\files.py:80\u001b[0m, in \u001b[0;36mReadPath.__new__\u001b[1;34m(cls, *args, **kwargs)\u001b[0m\n\u001b[0;32m     78\u001b[0m instance \u001b[38;5;241m=\u001b[39m \u001b[38;5;28msuper\u001b[39m()\u001b[38;5;241m.\u001b[39m\u001b[38;5;21m__new__\u001b[39m(\u001b[38;5;28mcls\u001b[39m, \u001b[38;5;241m*\u001b[39margs, \u001b[38;5;241m*\u001b[39m\u001b[38;5;241m*\u001b[39mkwargs)\n\u001b[0;32m     79\u001b[0m \u001b[38;5;28;01mif\u001b[39;00m \u001b[38;5;129;01mnot\u001b[39;00m instance\u001b[38;5;241m.\u001b[39mexists():\n\u001b[1;32m---> 80\u001b[0m     \u001b[38;5;28;01mraise\u001b[39;00m \u001b[38;5;167;01mFileNotFoundError\u001b[39;00m(\u001b[38;5;124mf\u001b[39m\u001b[38;5;124m\"\u001b[39m\u001b[38;5;124mFile \u001b[39m\u001b[38;5;132;01m{\u001b[39;00minstance\u001b[38;5;132;01m}\u001b[39;00m\u001b[38;5;124m does not exist\u001b[39m\u001b[38;5;124m\"\u001b[39m)\n\u001b[0;32m     81\u001b[0m \u001b[38;5;28;01mreturn\u001b[39;00m instance\n",
      "\u001b[1;31mFileNotFoundError\u001b[0m: File C:\\Users\\Administrator\\PycharmProjects\\SEEDS\\runs\\run_density_water\\data\\data_260.json does not exist"
     ]
    }
   ],
   "source": [
    "\n",
    "import enbios as enb\n",
    "#from enbios2.base.experiment import Experiment\n",
    "import json\n",
    "\n",
    "\n",
    "exp = enb.Experiment(r'C:\\Users\\Administrator\\PycharmProjects\\SEEDS\\runs\\run_density_water\\data\\data_260.json')\n",
    "exp.run()\n",
    "\n",
    "\n",
    "with open(r'C:\\Users\\Administrator\\PycharmProjects\\SEEDS\\runs\\run_density_water\\data\\results_260.json', 'w') as file:\n",
    "    json.dump(res, file, indent=4)"
   ]
  }
 ],
 "metadata": {
  "kernelspec": {
   "display_name": "Python 3 (ipykernel)",
   "language": "python",
   "name": "python3"
  },
  "language_info": {
   "codemirror_mode": {
    "name": "ipython",
    "version": 3
   },
   "file_extension": ".py",
   "mimetype": "text/x-python",
   "name": "python",
   "nbconvert_exporter": "python",
   "pygments_lexer": "ipython3",
   "version": "3.11.7"
  }
 },
 "nbformat": 4,
 "nbformat_minor": 5
}
