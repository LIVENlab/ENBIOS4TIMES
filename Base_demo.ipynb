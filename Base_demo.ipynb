{
 "cells": [
  {

   "cell_type": "markdown",
   "id": "4e4c4b05ed989c76",
   "metadata": {},
   "source": [
    "# Integration TIMES-ENBIOS\n",
    "\n",
    "This jupyter notebook shows an example of the integration between [Times](https://iea-etsap.org/index.php/etsap-tools/model-generators/times) outputs and environmental analysis using [ENBIOS](https://github.com/LIVENlab/enbios). \n",
    "\n",
    "We will use [Sparks](https://github.com/LIVENlab/Sparks) to soft-link both models. \n",
    "\n",
    "\n"
   ]
  },
  {
   "cell_type": "markdown",
   "id": "e541cf93b7914eaf",
   "metadata": {},
   "source": [
    "## Define a basefile\n",
    "The basefile will map the lifecycle inventories (LCI) to be used in [ENBIOS](https://github.com/LIVENlab/enbios), as well as the hierarchical structure to follow.\n",
    "\n",
    "In this exercice, we are going to analyze the electricity production output, distinguishing between `baseload` technologies and `intermittent`.\n"
   ]
  },
  {
=======

   "cell_type": "code",
   "execution_count": 4,
   "id": "df035a1c-f6d1-4180-9fc2-0b40d592ab93",
   "metadata": {},
   "outputs": [
    {
     "name": "stderr",
     "output_type": "stream",
     "text": [
      "WARNING:root:Testing logging messages\n"
     ]
    },
    {
     "name": "stdout",
     "output_type": "stream",
     "text": [
      "Project and Database existing...\n",
      "Adapting input data...\n"
     ]
    },
    {
     "name": "stderr",
     "output_type": "stream",
     "text": [
      "C:\\Users\\1496051\\PycharmProjects\\Sparks_local\\Sparks\\util\\preprocess\\cleaner.py:122: Warning: \n",
      "The following technologies, are present in the energy data but not in the Basefile: \n",
      "            \n",
      "{'h2_import', 'gas_hob', 'electric_hob', 'heavy_transport_ev', 'hydrogen_to_liquids', 'light_transport_ev', 'light_transport_ice', 'hydrogen_storage', 'electric_heater', 'hydrogen_to_methane', 'dac', 'hp', 'heavy_transport_ice', 'hydrogen_to_methanol', 'biofuel_supply'}\n",
      "            \n",
      " Please,check the following items in order to avoid missing information\n",
      "  warnings.warn(message,Warning)\n",
      "C:\\Users\\1496051\\PycharmProjects\\Sparks_local\\Sparks\\generic\\generic_dataclass.py:48: Warning: \n",
      "ssss not found in the database. Please check your database / basefile.\n",
      "This activity won't be included.\n",
      "  warnings.warn(message, Warning)\n",
      "C:\\Users\\1496051\\PycharmProjects\\Sparks_local\\Sparks\\generic\\generic_dataclass.py:48: Warning: \n",
      "CHP_hydrogen_2050 not found in the database. Please check your database / basefile.\n",
      "This activity won't be included.\n",
      "  warnings.warn(message, Warning)\n",
      "C:\\Users\\1496051\\PycharmProjects\\Sparks_local\\Sparks\\generic\\generic_dataclass.py:48: Warning: \n",
      "CHP_hydrogen_2050_HEAT_1 not found in the database. Please check your database / basefile.\n",
      "This activity won't be included.\n",
      "  warnings.warn(message, Warning)\n",
      "C:\\Users\\1496051\\PycharmProjects\\Sparks_local\\Sparks\\generic\\generic_dataclass.py:48: Warning: \n",
      "market_hydrogen_2050 not found in the database. Please check your database / basefile.\n",
      "This activity won't be included.\n",
      "  warnings.warn(message, Warning)\n"
     ]
    },
    {
     "name": "stdout",
     "output_type": "stream",
     "text": [
      "function preprocess executed in 0.9958367347717285 seconds\n",
      "Input data for ENBIOS created\n"
     ]
    }
   ],
   "source": [
    "from Sparks.util.base import SoftLink\n",
    "\n",
    "\n",
    "enbios_mod = SoftLink(r'C:\\Users\\1496051\\PycharmProjects\\Sparks_local\\testing\\data_test\\flow_out_sum.csv',\n",
    "                      r'C:\\Users\\1496051\\PycharmProjects\\Sparks_local\\testing\\data_test\\basefile.xlsx',\n",
    "                       'github_3',\n",
    "                      'ecoinvent')\n",
    "\n",
    "enbios_mod.preprocess(subregions=False)\n",
    "enbios_mod.data_for_ENBIOS(smaller_vers=True,\n",
    "                           path_save=r'test.json')"
   ]
  },
  {
   "cell_type": "code",
   "execution_count": 7,
   "id": "d1e56919-2b5a-4326-9ec4-7f527bd2e6f5",
   "metadata": {},
   "outputs": [
    {
     "name": "stdout",
     "output_type": "stream",
     "text": [
      "Creating logging config file at: C:\\Users\\1496051\\PycharmProjects\\Sparks_local\\venv\\Lib\\site-packages\\enbios\\data\\logging.json\n"
     ]
    }
   ],
   "source": [
    "\n"
   ]
  },
  {
   "cell_type": "code",
   "execution_count": null,
   "id": "0aa780dc-17b4-4a09-b690-dfc444b4a0ed",
   "metadata": {},
   "outputs": [
    {
     "name": "stdout",
     "output_type": "stream",
     "text": [
      "Creating 'ecoinvent_pint_unit_match' file at: C:/Users/1496051/PycharmProjects/Sparks_local/venv/Lib/site-packages/enbios/data/ecoinvent_pint_unit_match.txt\n",
      "2024-07-17 10:25:49,108 - ............enbios.base - INFO - Running scenario '0'\n"
     ]
    }
   ],
   "source": [
    "\n",
    "import enbios as enb\n",
    "#from enbios2.base.experiment import Experiment\n",
    "import json\n",
    "\n",
    "\n",
    "exp = enb.Experiment(r'C:\\Users\\1496051\\PycharmProjects\\Sparks_local\\testing\\demos\\test.json')\n",
    "exp.run()\n",
    "\n",
    "\n"
   ]
  }
 ],
 "metadata": {
  "kernelspec": {
   "display_name": "Python 3 (ipykernel)",
   "language": "python",
   "name": "python3"
  },
  "language_info": {
   "codemirror_mode": {
    "name": "ipython",
    "version": 3
   },
   "file_extension": ".py",
   "mimetype": "text/x-python",
   "name": "python",
   "nbconvert_exporter": "python",
   "pygments_lexer": "ipython3",
   "version": "3.11.7"
  }
 },
 "nbformat": 4,
 "nbformat_minor": 5
}
