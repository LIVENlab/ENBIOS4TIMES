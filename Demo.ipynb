{
 "cells": [
  {
   "cell_type": "code",
   "execution_count": 6,
   "id": "130d20d7",
   "metadata": {},
   "outputs": [
    {
     "name": "stdout",
     "output_type": "stream",
     "text": [
      "loaded ecoinvent units\n"
     ]
    }
   ],
   "source": [
    "from ProspectBackground.util.update_experiment import Prospect\n"
   ]
  },
  {
   "cell_type": "code",
   "execution_count": 7,
   "id": "66742f83",
   "metadata": {},
   "outputs": [
    {
     "name": "stdout",
     "output_type": "stream",
     "text": [
      "Project and Database existing...\n"
     ]
    }
   ],
   "source": [
    "enbios_mod = Prospect('/home/lex/PycharmProjects/SparkBox/data_sentinel/flow_out_sum.csv',\n",
    "                       '/home/lex/PycharmProjects/SparkBox/ProspectBackground/data/base_file_simplified_v2.xlsx',\n",
    "                       'Seeds_exp4', 'db_experiments')"
   ]
  },
  {
   "cell_type": "code",
   "execution_count": 8,
   "id": "444e314a",
   "metadata": {},
   "outputs": [
    {
     "name": "stdout",
     "output_type": "stream",
     "text": [
      "Adapting input data...\n",
      "Input checked. Columns look ok\n",
      "Preparing to change and adapt the units...\n",
      "Units adapted and ready to go\n"
     ]
    },
    {
     "name": "stderr",
     "output_type": "stream",
     "text": [
      "/home/lex/PycharmProjects/SparkBox/ProspectBackground/util/preprocess/cleaner.py:159: Warning: \n",
      "The following technologies, are present in the energy data but not in the Basefile: \n",
      "            \n",
      "['dac', 'electric_heater', 'electric_hob', 'gas_hob', 'heavy_transport_ev', 'heavy_transport_ice', 'hp', 'hydrogen_storage', 'hydrogen_to_liquids', 'hydrogen_to_methane', 'hydrogen_to_methanol', 'light_transport_ev', 'light_transport_ice', 'nuclear']\n",
      "            \n",
      " Please,check the following items in order to avoid missing information\n",
      "  warnings.warn(message,Warning)\n",
      "/home/lex/PycharmProjects/SparkBox/ProspectBackground/util/preprocess/cleaner.py:305: Warning:  \n",
      "CHP_hydrogen_2050 from activity, chp_hydrogen_electricity not found in the database. Please check your database\n",
      "  warnings.warn(message,Warning)\n",
      "/home/lex/PycharmProjects/SparkBox/ProspectBackground/util/preprocess/cleaner.py:305: Warning:  \n",
      "market_hydrogen_2050_A from activity, electrolysis_hydrogen not found in the database. Please check your database\n",
      "  warnings.warn(message,Warning)\n"
     ]
    }
   ],
   "source": [
    "enbios_mod.preprocess(subregions=False)\n"
   ]
  },
  {
   "cell_type": "code",
   "execution_count": 9,
   "id": "ee969c87",
   "metadata": {},
   "outputs": [
    {
     "name": "stdout",
     "output_type": "stream",
     "text": [
      "Activities stored as a dict\n",
      "Creating tree following the structure defined in the basefile\n",
      "Input data for ENBIOS created\n",
      "/home/lex/PycharmProjects/SparkBox/ProspectBackground/util\n",
      "/home/lex/PycharmProjects/SparkBox/ProspectBackground/Default/data_enbios.json\n",
      "Data for enbios saved in /home/lex/PycharmProjects/SparkBox/ProspectBackground/Default/data_enbios.json\n"
     ]
    },
    {
     "name": "stderr",
     "output_type": "stream",
     "text": [
      "/home/lex/PycharmProjects/SparkBox/ProspectBackground/util/preprocess/SoftLink.py:156: Warning: \n",
      "chp_hydrogen,has an unknown object in the db \n",
      "\n",
      "                It will not be included in the input data\n",
      "  warnings.warn(mess,Warning)\n",
      "/home/lex/PycharmProjects/SparkBox/ProspectBackground/util/preprocess/SoftLink.py:156: Warning: \n",
      "electrolysis,has an unknown object in the db \n",
      "\n",
      "                It will not be included in the input data\n",
      "  warnings.warn(mess,Warning)\n"
     ]
    }
   ],
   "source": [
    "enbios_mod.data_for_ENBIOS(smaller_vers=1)"
   ]
  },
  {
   "cell_type": "code",
   "execution_count": 10,
   "id": "b7666e93",
   "metadata": {},
   "outputs": [
    {
     "data": {
      "text/plain": [
       "{'bw_project': 'Seeds_exp4',\n",
       " 'activities': {'biofuel_boiler__heat___ESP': {'id': {'code': '413bc4617794c6e8b07038dbeca64adb'}},\n",
       "  'methane_boiler__heat___ESP': {'id': {'code': 'a3039e0a35ed472774d6ed66262c67f3'}},\n",
       "  'chp_biofuel_extraction__electricity___ESP': {'id': {'code': '1952fb157a18463b0028629917057bcf'}},\n",
       "  'open_field_pv__electricity___LVA': {'id': {'code': '206c2e2c30f45d47ea2e9a3701f8ecc5'}},\n",
       "  'wind_offshore__electricity___ESP': {'id': {'code': '46839adbc3cf15621ddbbe687eaa6df1'}},\n",
       "  'heat_storage_big__heat___ESP': {'id': {'code': '07db2c419abe9cffeb033aa0bed7f0ba'}},\n",
       "  'wind_onshore__electricity___ESP': {'id': {'code': '81174ec2c20931c1a36f65c654bbd11e'}},\n",
       "  'chp_wte_back_pressure__electricity___ESP': {'id': {'code': 'fd6356e68720aec505c69cdadb3046fc'}},\n",
       "  'heat_storage_small__heat___ESP': {'id': {'code': '14e0227e764a4a098e5fd34525ccaf3f'}},\n",
       "  'roof_mounted_pv__electricity___ESP': {'id': {'code': '1d7a3591e7a3d033a25e0eaf699bb50b'}},\n",
       "  'battery__electricity___ESP': {'id': {'code': 'a2634d3b6d27046ccb1d0af9c0384c64'}},\n",
       "  'hydro_reservoir__electricity___ESP': {'id': {'code': 'c868c4688fbf78f5ca3787ac3d83312b'}},\n",
       "  'biofuel_supply__biofuel___ESP': {'id': {'code': 'f1cc5e0b69dcd3bdb2c6a4d393521a65'}},\n",
       "  'pumped_hydro__electricity___ESP': {'id': {'code': '309ff1f1194f2b5ea34d8c077103b1e3'}},\n",
       "  'biofuel_to_methanol__methanol___ESP': {'id': {'code': 'df54a237474430370bb580c2451d405d'}},\n",
       "  'waste_supply__waste___ESP': {'id': {'code': 'fd6356e68720aec505c69cdadb3046fc'}},\n",
       "  'methane_storage__methane___ESP': {'id': {'code': 'da586847dea594ccd75188627f456d03'}},\n",
       "  'wind_onshore__electricity___DEU': {'id': {'code': '81174ec2c20931c1a36f65c654bbd11e'}},\n",
       "  'hydro_run_of_river__electricity___ESP': {'id': {'code': 'b870e3d3ddd5b634d016940064b27532'}}},\n",
       " 'hierarchy': {'Energysystem': {'Generation': {'Electricity_generation': ['wind_onshore__electricity___ESP',\n",
       "     'wind_onshore__electricity___DEU',\n",
       "     'wind_offshore__electricity___ESP',\n",
       "     'hydro_run_of_river__electricity___ESP',\n",
       "     'hydro_reservoir__electricity___ESP',\n",
       "     'chp_biofuel_extraction__electricity___ESP',\n",
       "     'open_field_pv__electricity___LVA',\n",
       "     'roof_mounted_pv__electricity___ESP',\n",
       "     'chp_wte_back_pressure__electricity___ESP',\n",
       "     'waste_supply__waste___ESP'],\n",
       "    'Thermal_generation': ['biofuel_supply__biofuel___ESP',\n",
       "     'biofuel_boiler__heat___ESP',\n",
       "     'methane_boiler__heat___ESP']},\n",
       "   'Storage': {'Electricity_storage': ['battery__electricity___ESP',\n",
       "     'pumped_hydro__electricity___ESP'],\n",
       "    'Thermal_storage': ['heat_storage_big__heat___ESP',\n",
       "     'heat_storage_small__heat___ESP',\n",
       "     'methane_storage__methane___ESP']},\n",
       "   'Conversions': {'Conversions': ['biofuel_to_methanol__methanol___ESP']},\n",
       "   'Imports': {'Imports': []}}},\n",
       " 'methods': {'agricultural land occupation (LOP)': ('ReCiPe 2016 v1.03, midpoint (H)',\n",
       "   'land use',\n",
       "   'agricultural land occupation (LOP)'),\n",
       "  'surplus ore potential (SOP)': ('ReCiPe 2016 v1.03, midpoint (H)',\n",
       "   'material resources: metals/minerals',\n",
       "   'surplus ore potential (SOP)')},\n",
       " 'scenarios': {'1': {'activities': {'battery__electricity___ESP': ['kilogram',\n",
       "     177116763.27286738],\n",
       "    'biofuel_boiler__heat___ESP': ['megajoule', 60993170.586876236],\n",
       "    'biofuel_supply__biofuel___ESP': ['kilogram', 11116318862.344933],\n",
       "    'biofuel_to_methanol__methanol___ESP': ['kilogram', 3406779443.3349853],\n",
       "    'chp_biofuel_extraction__electricity___ESP': ['kilowatt hour',\n",
       "     19141044.2579453],\n",
       "    'chp_wte_back_pressure__electricity___ESP': ['kilowatt hour',\n",
       "     1446099614.233801],\n",
       "    'heat_storage_big__heat___ESP': ['unit', 25900054.83567452],\n",
       "    'heat_storage_small__heat___ESP': ['unit', 779282437.8375512],\n",
       "    'hydro_reservoir__electricity___ESP': ['kilowatt hour',\n",
       "     32642094027.013477],\n",
       "    'hydro_run_of_river__electricity___ESP': ['kilowatt hour',\n",
       "     462875457.37951],\n",
       "    'methane_boiler__heat___ESP': ['megajoule', 19226703.97107468],\n",
       "    'methane_storage__methane___ESP': ['unit', 15592.031124376686],\n",
       "    'open_field_pv__electricity___LVA': ['kilowatt hour', 25339547.029273603],\n",
       "    'pumped_hydro__electricity___ESP': ['kilowatt hour', 15328072022.828697],\n",
       "    'roof_mounted_pv__electricity___ESP': ['kilowatt hour', 673614.4662161],\n",
       "    'waste_supply__waste___ESP': ['kilowatt hour', 6643100589.042727],\n",
       "    'wind_offshore__electricity___ESP': ['kilowatt hour', 5305450.6299441],\n",
       "    'wind_onshore__electricity___DEU': ['kilowatt hour', 527085174157.3209],\n",
       "    'wind_onshore__electricity___ESP': ['kilowatt hour',\n",
       "     1007224736896.1727]}}}}"
      ]
     },
     "execution_count": 10,
     "metadata": {},
     "output_type": "execute_result"
    }
   ],
   "source": [
    "enbios_mod.enbios2_data"
   ]
  },
  {
   "cell_type": "code",
   "execution_count": 14,
   "id": "209043e6",
   "metadata": {},
   "outputs": [
    {
     "data": {
      "text/plain": [
       "{'preprocess': 0.1343860626220703, 'data_for_ENBIOS': 0.2440035343170166}"
      ]
     },
     "execution_count": 14,
     "metadata": {},
     "output_type": "execute_result"
    }
   ],
   "source": [
    "enbios_mod.get_execution_times()"
   ]
  }
 ],
 "metadata": {
  "kernelspec": {
   "display_name": "Python 3 (ipykernel)",
   "language": "python",
   "name": "python3"
  },
  "language_info": {
   "codemirror_mode": {
    "name": "ipython",
    "version": 3
   },
   "file_extension": ".py",
   "mimetype": "text/x-python",
   "name": "python",
   "nbconvert_exporter": "python",
   "pygments_lexer": "ipython3",
   "version": "3.11.6"
  }
 },
 "nbformat": 4,
 "nbformat_minor": 5
}
