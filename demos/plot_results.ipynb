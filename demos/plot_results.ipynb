{
 "cells": [
  {
   "cell_type": "code",
   "id": "initial_id",
   "metadata": {
    "collapsed": true,
    "ExecuteTime": {
     "end_time": "2024-05-17T08:36:17.799032Z",
     "start_time": "2024-05-17T08:36:15.681742Z"
    }
   },
   "source": [
    "from pathlib import Path\n",
    "\n",
    "from enbios.base.experiment import Experiment"
   ],
   "execution_count": 1,
   "outputs": []
  },
  {
   "cell_type": "code",
   "source": [
    "from demos.demo_experiment import get_demo_experiment\n",
    "\n",
    "# Open a pickled experiment object.\n",
    "exp: Experiment = get_demo_experiment(num_scenarios=4)"
   ],
   "metadata": {
    "collapsed": false,
    "ExecuteTime": {
     "end_time": "2024-05-17T08:36:17.805111Z",
     "start_time": "2024-05-17T08:36:17.800256Z"
    }
   },
   "id": "366b92c6299d7c3b",
   "execution_count": 2,
   "outputs": []
  },
  {
   "cell_type": "code",
   "source": [
    "from enbios.base.result_select import ResultsSelector\n",
    "\n",
    "rs = ResultsSelector.get_result_selector(exp)\n",
    "rs.base_df"
   ],
   "metadata": {
    "collapsed": false,
    "ExecuteTime": {
     "end_time": "2024-05-17T08:36:17.858506Z",
     "start_time": "2024-05-17T08:36:17.806262Z"
    }
   },
   "id": "242f58f06b0731b9",
   "execution_count": 3,
   "outputs": []
  },
  {
   "cell_type": "code",
   "source": [
    "# Let's introspect the experiment\n",
    "# print(exp.info())\n",
    "# print(json.dumps(exp.hierarchy_root.as_dict(remove_empty_childlist=True), indent=2))"
   ],
   "metadata": {
    "collapsed": false,
    "ExecuteTime": {
     "end_time": "2024-05-17T08:27:14.268693Z",
     "start_time": "2024-05-17T08:27:14.266194Z"
    }
   },
   "id": "69acfd71274157ce",
   "execution_count": 4,
   "outputs": []
  },
  {
   "cell_type": "code",
   "source": [
    "from enbios.base.plot_experiment import bar_plot\n",
    "\n",
    "bar_plot(exp);"
   ],
   "metadata": {
    "collapsed": false,
    "ExecuteTime": {
     "end_time": "2024-05-17T08:27:15.044765Z",
     "start_time": "2024-05-17T08:27:14.269986Z"
    }
   },
   "id": "a3d2144bda343e91",
   "execution_count": 5,
   "outputs": []
  },
  {
   "cell_type": "markdown",
   "source": [
    "These are a lot of plots. Let's just plot the first two methods. For the most plotting functions we can pass two lists, one for the scenarios and one for the methods. All items of these lists must be aliases of the corresponding collection. We can these aliases with `Experiment.scenario_aliases` and  `Experiment.method_aliases`  "
   ],
   "metadata": {
    "collapsed": false
   },
   "id": "2a08dc59b69276e2"
  },
  {
   "cell_type": "code",
   "source": [
    "# just plot the first method\n",
    "bar_plot(exp, methods=exp.methods[:1]);"
   ],
   "metadata": {
    "collapsed": false,
    "ExecuteTime": {
     "end_time": "2024-05-17T08:27:15.237359Z",
     "start_time": "2024-05-17T08:27:15.046697Z"
    }
   },
   "id": "11d29a7bf0b3651c",
   "execution_count": 6,
   "outputs": []
  },
  {
   "cell_type": "code",
   "source": [
    "# just plot the first three scenarios for the first method.\n",
    "bar_plot(exp, scenarios=exp.scenario_names[:2], methods=exp.methods[:1]);"
   ],
   "metadata": {
    "collapsed": false,
    "ExecuteTime": {
     "end_time": "2024-05-17T08:27:15.490468Z",
     "start_time": "2024-05-17T08:27:15.305910Z"
    }
   },
   "id": "9e415f2790f72f41",
   "execution_count": 7,
   "outputs": []
  },
  {
   "cell_type": "markdown",
   "source": [
    "Next, we inspect the values of part of the hierarchy. We can do that with the 'stacked_bar_plot' method. Besides the selection of the scenarios and the methods, there are two ways to select which nodes in the hierarchy should be selected.\n",
    "By default, it selects all nodes on `level = 1`, which are all nodes just below the root. By passing a `level` parameter, we can select another level."
   ],
   "metadata": {
    "collapsed": false
   },
   "id": "c81f78a958d98b8b"
  },
  {
   "cell_type": "code",
   "source": [
    "from enbios.base.plot_experiment import stacked_bar_plot\n",
    "\n",
    "stacked_bar_plot(exp, methods=exp.methods[:1]);"
   ],
   "metadata": {
    "collapsed": false,
    "ExecuteTime": {
     "end_time": "2024-05-17T08:27:17.405603Z",
     "start_time": "2024-05-17T08:27:17.238119Z"
    }
   },
   "id": "5684a3f682f78104",
   "execution_count": 8,
   "outputs": []
  },
  {
   "cell_type": "code",
   "source": [
    "stacked_bar_plot(exp, methods=exp.methods[:1], level=2);"
   ],
   "metadata": {
    "collapsed": false,
    "ExecuteTime": {
     "end_time": "2024-05-17T08:27:18.281369Z",
     "start_time": "2024-05-17T08:27:18.056036Z"
    }
   },
   "id": "13f25bad227a83b7",
   "execution_count": 9,
   "outputs": []
  },
  {
   "cell_type": "code",
   "source": [
    "stacked_bar_plot(\n",
    "    exp,\n",
    "    methods=exp.methods[:1],\n",
    "    nodes=[\n",
    "        \"electricity production, solar tower power plant, 20 MW\",\n",
    "        \"electricity production, solar thermal parabolic trough, 50 MW\",\n",
    "    ],\n",
    ");"
   ],
   "metadata": {
    "collapsed": false,
    "ExecuteTime": {
     "end_time": "2024-05-17T08:27:19.523138Z",
     "start_time": "2024-05-17T08:27:19.257672Z"
    }
   },
   "id": "65c008204502d630",
   "execution_count": 10,
   "outputs": []
  },
  {
   "cell_type": "markdown",
   "source": [
    "Next comes a starplot, which normalized the values into the range between the lowest and highest values for each method. Note that for the normalization all scenarios are considered, not just the ones that are selected for plotting. "
   ],
   "metadata": {
    "collapsed": false
   },
   "id": "c69000e3b57e7bcb"
  },
  {
   "cell_type": "code",
   "source": [
    "from enbios.base.plot_experiment import star_plot\n",
    "\n",
    "star_plot(exp, scenarios=[\"scenario 1\", \"scenario 2\", \"scenario 3\"], fill=True, row=2);"
   ],
   "metadata": {
    "collapsed": false,
    "ExecuteTime": {
     "end_time": "2024-05-17T08:51:43.234744Z",
     "start_time": "2024-05-17T08:51:41.476735Z"
    }
   },
   "id": "b0e61bfe96a3f1af",
   "execution_count": 13,
   "outputs": []
  },
  {
   "metadata": {
    "ExecuteTime": {
     "end_time": "2024-05-17T08:38:31.774640Z",
     "start_time": "2024-05-17T08:38:31.767383Z"
    }
   },
   "cell_type": "code",
   "source": [
    "rs = ResultsSelector(exp, scenarios=[\"scenario 1\", \"scenario 2\", \"scenario 3\"])\n",
    "rs.base_df"
   ],
   "id": "32a0b31d57db2329",
   "execution_count": 10,
   "outputs": []
  },
  {
   "metadata": {
    "ExecuteTime": {
     "end_time": "2024-05-17T08:38:34.644233Z",
     "start_time": "2024-05-17T08:38:34.634228Z"
    }
   },
   "cell_type": "code",
   "source": "rs.normalized_df(False)",
   "id": "750b90aea4240056",
   "execution_count": 11,
   "outputs": []
  },
  {
   "cell_type": "code",
   "source": "star_plot(exp, scenarios=[exp.scenario_names[0]], show_labels=False);",
   "metadata": {
    "collapsed": false,
    "ExecuteTime": {
     "end_time": "2024-05-13T10:48:17.885277Z",
     "start_time": "2024-05-13T10:48:17.597713Z"
    }
   },
   "id": "868087243eb9ede6",
   "execution_count": 12,
   "outputs": []
  },
  {
   "cell_type": "markdown",
   "source": [
    "We can also plot multiple scenarios into one plot."
   ],
   "metadata": {
    "collapsed": false
   },
   "id": "66f5df045ee3044c"
  },
  {
   "cell_type": "code",
   "source": [
    "from enbios.base.plot_experiment import single_star_plot\n",
    "\n",
    "single_star_plot(\n",
    "    exp, scenarios=[exp.scenario_names[0], exp.scenario_names[1]], show_labels=True\n",
    ");"
   ],
   "metadata": {
    "collapsed": false,
    "ExecuteTime": {
     "end_time": "2024-05-17T08:23:14.315817Z",
     "start_time": "2024-05-17T08:23:11.765296Z"
    }
   },
   "id": "b6118d7c94927bec",
   "execution_count": 1,
   "outputs": []
  },
  {
   "metadata": {
    "ExecuteTime": {
     "end_time": "2024-05-13T10:48:18.340472Z",
     "start_time": "2024-05-13T10:48:18.122394Z"
    }
   },
   "cell_type": "code",
   "source": [
    "single_star_plot(exp, show_labels=True);"
   ],
   "id": "b8c5b4bd9d4ce353",
   "execution_count": 14,
   "outputs": []
  },
  {
   "cell_type": "markdown",
   "source": [
    "A heatmap also normalizes the values. "
   ],
   "metadata": {
    "collapsed": false
   },
   "id": "13b8744b1a844edb"
  },
  {
   "cell_type": "code",
   "source": [
    "from enbios.base.plot_experiment import plot_heatmap\n",
    "\n",
    "plot_heatmap(exp);"
   ],
   "metadata": {
    "collapsed": false,
    "ExecuteTime": {
     "end_time": "2024-05-13T10:48:18.542049Z",
     "start_time": "2024-05-13T10:48:18.342023Z"
    }
   },
   "id": "413deb812315c889",
   "execution_count": 15,
   "outputs": []
  },
  {
   "cell_type": "markdown",
   "source": [
    "Instead of using normalized, we can also pass specific values. For example can we compare the values to some baseline values. All plotting functions use a `ResultsSelector` class in the background for filtering the scenarios, methods or tree-nodes. It also has a function to compare the values to a baseline (`compare_to_baseline`), which should be a numpy array with the same length as the number of methods. The result can be passed to the plotting functions as `special_df`.  "
   ],
   "metadata": {
    "collapsed": false
   },
   "id": "a121ccaf92cf92bb"
  },
  {
   "cell_type": "code",
   "source": [
    "import numpy as np\n",
    "\n",
    "rs = ResultsSelector.get_result_selector(exp)\n",
    "\n",
    "df = rs.base_df\n",
    "df = rs.compare_to_baseline(np.array(df.min()[1:]))\n",
    "plot_heatmap(exp, special_df=df);"
   ],
   "metadata": {
    "collapsed": false,
    "ExecuteTime": {
     "end_time": "2024-05-13T10:48:18.728355Z",
     "start_time": "2024-05-13T10:48:18.543195Z"
    }
   },
   "id": "1d0265e12885cf1d",
   "execution_count": 16,
   "outputs": []
  },
  {
   "cell_type": "markdown",
   "source": [
    "Finally, we have a rudiementary sankey plot. It is not very flexible yet, but it can be useful to get a quick overview of the flows."
   ],
   "metadata": {
    "collapsed": false
   },
   "id": "10c3fc3da2686101"
  },
  {
   "metadata": {
    "ExecuteTime": {
     "end_time": "2024-05-13T10:48:22.744965Z",
     "start_time": "2024-05-13T10:48:18.729460Z"
    }
   },
   "cell_type": "code",
   "source": [
    "# For sanky diagrams, we need the plotly package\n",
    "!pip3 install plotly"
   ],
   "id": "11dafd5a16ac4c0b",
   "execution_count": 17,
   "outputs": []
  },
  {
   "cell_type": "code",
   "source": [
    "from enbios.base.plot_experiment import plot_sankey\n",
    "\n",
    "plot_sankey(exp, exp.scenarios[0].name, exp.methods[0])"
   ],
   "metadata": {
    "collapsed": false,
    "ExecuteTime": {
     "end_time": "2024-05-13T10:48:23.343768Z",
     "start_time": "2024-05-13T10:48:22.749142Z"
    }
   },
   "id": "2be748e9fa66936a",
   "execution_count": 18,
   "outputs": []
  },
  {
   "cell_type": "code",
   "source": [
    "from plotly.graph_objs import Figure as PlotlyFigure\n",
    "from enbios.base.plot_experiment import plot_sankey\n",
    "\n",
    "# we can add a colormap for the bars.\n",
    "# Also note the return type of the function. The figure coming from the plotly library can be saved to various formats\n",
    "\n",
    "sanky: PlotlyFigure = plot_sankey(\n",
    "    exp,\n",
    "    exp.scenarios[0].name,\n",
    "    exp.methods[0],\n",
    "    color_map={\"solar\": \"green\", \"wind\": \"darkblue\"},\n",
    ")\n",
    "\n",
    "sanky.write_html(\"sanky.html\")\n",
    "sanky"
   ],
   "metadata": {
    "collapsed": false
   },
   "id": "160987cf7157494e",
   "execution_count": 19,
   "outputs": []
  },
  {
   "cell_type": "code",
   "source": [
    "from enbios.base.plot_experiment import one_axes_scatter_plot\n",
    "\n",
    "one_axes_scatter_plot(exp, exp.scenarios[0].name);"
   ],
   "metadata": {
    "collapsed": false,
    "ExecuteTime": {
     "end_time": "2024-05-13T10:48:24.248667Z",
     "start_time": "2024-05-13T10:48:23.450347Z"
    }
   },
   "id": "7fdbd02fae486695",
   "execution_count": 20,
   "outputs": []
  },
  {
   "cell_type": "markdown",
   "source": [
    "## Plotting uncertainties\n",
    "\n",
    "Plotting experiments, where each node has multiple values (e.g. through brightway uncertainty analysis) can also be plotted. The uncertainty experiment notebook has been run and the experiment stored "
   ],
   "metadata": {
    "collapsed": false
   },
   "id": "4b619df04300948f"
  },
  {
   "cell_type": "code",
   "source": [
    "from enbios.base.plot_experiment import plot_multivalue_results\n",
    "\n",
    "uncertainty_experiment_file = Path(\"data/uncertainty_experiment.pickle\")\n",
    "\n",
    "if uncertainty_experiment_file.exists():\n",
    "    import pickle\n",
    "\n",
    "    exp: Experiment = pickle.load(open(uncertainty_experiment_file, \"rb\"))\n",
    "\n",
    "    plot_multivalue_results(exp, level=2);\n",
    "    # alternatively we can pass a custom function that calculates the error from a nparray\n",
    "    # plot_multivalue_results(exp,level=3, err_method= lambda values: np.std(values) / np.sqrt(len(values)));\n",
    "    # like before we could select specific scenarios, methods and nodes"
   ],
   "metadata": {
    "collapsed": false,
    "ExecuteTime": {
     "end_time": "2024-05-13T10:48:28.030604Z",
     "start_time": "2024-05-13T10:48:24.250545Z"
    }
   },
   "id": "9019e7d69908b6eb",
   "execution_count": 21,
   "outputs": []
  }
 ],
 "metadata": {
  "kernelspec": {
   "display_name": "Python 3",
   "language": "python",
   "name": "python3"
  },
  "language_info": {
   "codemirror_mode": {
    "name": "ipython",
    "version": 2
   },
   "file_extension": ".py",
   "mimetype": "text/x-python",
   "name": "python",
   "nbconvert_exporter": "python",
   "pygments_lexer": "ipython2",
   "version": "2.7.6"
  }
 },
 "nbformat": 4,
 "nbformat_minor": 5
}
